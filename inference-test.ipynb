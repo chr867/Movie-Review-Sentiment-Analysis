{
  "cells": [
    {
      "cell_type": "markdown",
      "metadata": {
        "nteract": {
          "transient": {
            "deleting": false
          }
        }
      },
      "source": [
        "### 다중 클래스 분류 모델 추론 코드 \n",
        "영화 댓글 데이터 감성 분석"
      ]
    },
    {
      "cell_type": "code",
      "execution_count": 25,
      "metadata": {
        "gather": {
          "logged": 1711869258229
        }
      },
      "outputs": [],
      "source": [
        "# pytorch 프레임워크 라이브러리\n",
        "import torch\n",
        "from torch import nn\n",
        "import torch.optim as optim\n",
        "from torch.utils.data import Dataset, DataLoader\n",
        "import torch.nn.functional as F\n",
        "\n",
        "# 자연어 처리 라이브러리\n",
        "from torch.nn.functional import softmax\n",
        "from sklearn.model_selection import train_test_split\n",
        "from transformers import AdamW, BertModel\n",
        "from transformers.optimization import get_cosine_schedule_with_warmup\n",
        "import gluonnlp as nlp\n",
        "\n",
        "# 기타\n",
        "import numpy as np\n",
        "import pandas as pd\n",
        "from tqdm import tqdm, tqdm_notebook\n",
        "from datetime import datetime, timedelta\n",
        "import os\n",
        "import time\n",
        "import json"
      ]
    },
    {
      "cell_type": "code",
      "execution_count": 26,
      "metadata": {
        "gather": {
          "logged": 1711869258458
        },
        "jupyter": {
          "outputs_hidden": false,
          "source_hidden": false
        },
        "nteract": {
          "transient": {
            "deleting": false
          }
        }
      },
      "outputs": [],
      "source": [
        "class BERTClassifier(nn.Module):\n",
        "    def __init__(self,\n",
        "                 bert,\n",
        "                 hidden_size = 768,\n",
        "                 num_classes=0,  \n",
        "                 dr_rate=None,\n",
        "                 params=None):\n",
        "        super(BERTClassifier, self).__init__()\n",
        "        self.bert = bert\n",
        "        self.dr_rate = dr_rate    \n",
        "        self.num_classes = num_classes\n",
        "        self.classifier = nn.Linear(hidden_size , self.num_classes)\n",
        "        if dr_rate:\n",
        "            self.dropout = nn.Dropout(p=dr_rate)\n",
        "    \n",
        "    def gen_attention_mask(self, token_ids, valid_length):\n",
        "        attention_mask = torch.zeros_like(token_ids)\n",
        "        for i, v in enumerate(valid_length):\n",
        "            attention_mask[i][:v] = 1\n",
        "        return attention_mask.float()\n",
        "\n",
        "    def forward(self, token_ids, valid_length, segment_ids):\n",
        "        attention_mask = self.gen_attention_mask(token_ids, valid_length)\n",
        "        \n",
        "        _, pooler = self.bert(input_ids = token_ids, token_type_ids = segment_ids.long(), attention_mask = attention_mask.float().to(token_ids.device))\n",
        "        if self.dr_rate:\n",
        "            out = self.dropout(pooler)\n",
        "        return self.classifier(out)\n",
        "\n",
        "class BERTDataset(Dataset):\n",
        "    def __init__(self, dataset, sent_idx, label_idx, bert_tokenizer, max_len,\n",
        "                 pad, pair):\n",
        "        transform = nlp.data.BERTSentenceTransform(\n",
        "            bert_tokenizer, max_seq_length=max_len, pad=pad, pair=pair)\n",
        "\n",
        "        self.sentences = [transform([i[sent_idx]]) for i in dataset]\n",
        "        self.labels = [np.int32(i[label_idx]) for i in dataset]\n",
        "\n",
        "    def __getitem__(self, i):\n",
        "        return (self.sentences[i] + (self.labels[i], ))\n",
        "\n",
        "    def __len__(self):\n",
        "        return (len(self.labels))\n",
        "\n",
        "def get_model_and_vocab(model_path, vocab_file, ctx=\"cpu\"):\n",
        "    bertmodel = BertModel.from_pretrained(model_path, return_dict=False)\n",
        "    device = torch.device(ctx)\n",
        "    bertmodel.to(device)\n",
        "    bertmodel.eval()\n",
        "    vocab_b_obj = nlp.vocab.BERTVocab.from_sentencepiece(\n",
        "        vocab_file, padding_token=\"[PAD]\"\n",
        "    )\n",
        "    return bertmodel, vocab_b_obj\n",
        "\n",
        "# 모델 설정 함수\n",
        "def setup_model(model_path, vocab_file, device, num_classes):\n",
        "    bert_model, vocab = get_model_and_vocab(model_path, vocab_file)\n",
        "    tokenizer = nlp.data.BERTSPTokenizer(vocab_file, vocab, lower=False)\n",
        "    model = BERTClassifier(bert_model, num_classes=num_classes, dr_rate=0.5).to(device)\n",
        "    return model, tokenizer\n"
      ]
    },
    {
      "cell_type": "code",
      "execution_count": 27,
      "metadata": {
        "gather": {
          "logged": 1711869271258
        },
        "jupyter": {
          "outputs_hidden": false,
          "source_hidden": false
        },
        "nteract": {
          "transient": {
            "deleting": false
          }
        }
      },
      "outputs": [
        {
          "data": {
            "text/plain": [
              "<All keys matched successfully>"
            ]
          },
          "execution_count": 27,
          "metadata": {},
          "output_type": "execute_result"
        }
      ],
      "source": [
        "# 기본 파라미터 설정\n",
        "max_len=256\n",
        "batch_size=32\n",
        "warmup_ratio=0.1\n",
        "num_epochs=50\n",
        "max_grad_norm=1\n",
        "log_interval=100\n",
        "learning_rate=5e-5\n",
        "num_classes = 2 # 분류 할 클래스의 개수\n",
        "device = torch.device(\"cuda:0\" if torch.cuda.is_available() else \"cpu\")\n",
        "\n",
        "def main():\n",
        "    # 모델 로드 및 데이터 준비\n",
        "    base_model_path = '../kobert-base-v1'\n",
        "    vocab_file = '../kobert-base-v1/kobert_news_wiki_ko_cased-1087f8699e.spiece'\n",
        "\n",
        "    model, tokenizer = setup_model(base_model_path, vocab_file, device, num_classes)\n",
        "    return model, tokenizer\n",
        "\n",
        "model, tokenizer = main()\n",
        "\n",
        "## 학습 모델 로드\n",
        "model.load_state_dict(torch.load('./2024-03-31_06-17/movie-review-entiment-analysis-model.pt'))  # state_dict를 불러 온 후, 모델에 저장"
      ]
    },
    {
      "cell_type": "code",
      "execution_count": null,
      "metadata": {
        "gather": {
          "logged": 1711869679235
        },
        "jupyter": {
          "outputs_hidden": false,
          "source_hidden": false
        },
        "nteract": {
          "transient": {
            "deleting": false
          }
        }
      },
      "outputs": [],
      "source": [
        "model"
      ]
    },
    {
      "cell_type": "code",
      "execution_count": 45,
      "metadata": {
        "gather": {
          "logged": 1711870272686
        },
        "jupyter": {
          "outputs_hidden": false,
          "source_hidden": false
        },
        "nteract": {
          "transient": {
            "deleting": false
          }
        }
      },
      "outputs": [],
      "source": [
        "def predict(sentence):\n",
        "    def get_dataloader(sentence):\n",
        "        data = [sentence, '0']\n",
        "        dataset_another = [data]\n",
        "\n",
        "        another_test = BERTDataset(dataset_another, 0, 1, tokenizer, max_len, True, False)\n",
        "        dataloader = torch.utils.data.DataLoader(another_test, batch_size=batch_size, num_workers=5)\n",
        "        return dataloader\n",
        "\n",
        "    # 분류 프로세스 \n",
        "    dataloader = get_dataloader(sentence)\n",
        "\n",
        "    top_idx = 0\n",
        "    top_logit = 0\n",
        "\n",
        "    for batch_id, (token_ids, valid_length, segment_ids, label) in enumerate(dataloader):\n",
        "        token_ids = token_ids.long().to(device)\n",
        "        segment_ids = segment_ids.long().to(device)\n",
        "        valid_length = valid_length\n",
        "        label = label.long().to(device)\n",
        "\n",
        "        out = model(token_ids, valid_length, segment_ids)\n",
        "        \n",
        "        for i in out:\n",
        "            logits = i\n",
        "            logits = logits.detach().cpu().numpy()\n",
        "            probabilities = softmax(torch.from_numpy(logits), dim=0).numpy()\n",
        "            top_prob_indices = np.argsort(probabilities)[::-1][:1]\n",
        "            \n",
        "            top_idx = top_prob_indices[0]\n",
        "            top_logit = probabilities[top_idx]\n",
        "\n",
        "    if top_idx == 0:\n",
        "        print('부정')\n",
        "    else:\n",
        "        print('긍정')\n",
        "    print(f'{round(top_logit*100, 2)}%')\n"
      ]
    },
    {
      "cell_type": "code",
      "execution_count": 54,
      "metadata": {
        "gather": {
          "logged": 1711870492194
        },
        "jupyter": {
          "outputs_hidden": false,
          "source_hidden": false
        },
        "nteract": {
          "transient": {
            "deleting": false
          }
        }
      },
      "outputs": [
        {
          "name": "stdout",
          "output_type": "stream",
          "text": [
            "부정\n",
            "86.56%\n"
          ]
        }
      ],
      "source": [
        "predict('이야기를 끌고 나가는 힘이 부족함')"
      ]
    },
    {
      "cell_type": "code",
      "execution_count": null,
      "metadata": {
        "jupyter": {
          "outputs_hidden": false,
          "source_hidden": false
        },
        "nteract": {
          "transient": {
            "deleting": false
          }
        }
      },
      "outputs": [],
      "source": []
    },
    {
      "cell_type": "code",
      "execution_count": null,
      "metadata": {
        "jupyter": {
          "outputs_hidden": false,
          "source_hidden": false
        },
        "nteract": {
          "transient": {
            "deleting": false
          }
        }
      },
      "outputs": [],
      "source": []
    },
    {
      "cell_type": "code",
      "execution_count": null,
      "metadata": {
        "jupyter": {
          "outputs_hidden": false,
          "source_hidden": false
        },
        "nteract": {
          "transient": {
            "deleting": false
          }
        }
      },
      "outputs": [],
      "source": []
    }
  ],
  "metadata": {
    "kernel_info": {
      "name": "python38-azureml"
    },
    "kernelspec": {
      "display_name": "base",
      "language": "python",
      "name": "python3"
    },
    "language_info": {
      "codemirror_mode": {
        "name": "ipython",
        "version": 3
      },
      "file_extension": ".py",
      "mimetype": "text/x-python",
      "name": "python",
      "nbconvert_exporter": "python",
      "pygments_lexer": "ipython3",
      "version": "3.11.5"
    },
    "microsoft": {
      "host": {
        "AzureML": {
          "notebookHasBeenCompleted": true
        }
      }
    },
    "nteract": {
      "version": "nteract-front-end@1.0.0"
    }
  },
  "nbformat": 4,
  "nbformat_minor": 2
}
